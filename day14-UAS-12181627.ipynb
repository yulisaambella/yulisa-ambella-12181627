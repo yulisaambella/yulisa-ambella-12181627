{
 "cells": [
  {
   "cell_type": "code",
   "execution_count": 1,
   "metadata": {},
   "outputs": [
    {
     "data": {
      "application/vnd.jupyter.widget-view+json": {
       "model_id": "d5dd2985-3107-4d8c-b6b9-bcf3b3f4fa16",
       "version_major": 2,
       "version_minor": 0
      },
      "method": "display_data"
     },
     "metadata": {},
     "output_type": "display_data"
    }
   ],
   "source": [
    "%classpath add jar libs/*"
   ]
  },
  {
   "cell_type": "code",
   "execution_count": 2,
   "metadata": {},
   "outputs": [
    {
     "name": "stdout",
     "output_type": "stream",
     "text": [
      "                                                                        12181627.csv                                                                        \n",
      " _id   |  idx   |             series             |  kode_wilayah  |       wilayah        |  tahun  |  triwulan  |  bulan  |  tanggal  |  nilai  |  target  |\n",
      "------------------------------------------------------------------------------------------------------------------------------------------------------------\n",
      " 1571  |  1570  |  Luas Lahan yang Dibakar (Ha)  |       1602022  |       MESUJI MAKMUR  |   2008  |            |         |           |     78  |          |\n",
      " 1572  |  1571  |  Luas Lahan yang Dibakar (Ha)  |       1602023  |         MESUJI RAYA  |   2008  |            |         |           |     56  |          |\n",
      " 1573  |  1572  |  Luas Lahan yang Dibakar (Ha)  |       1602030  |      TULUNG SELAPAN  |   2008  |            |         |           |     91  |          |\n",
      " 1574  |  1573  |  Luas Lahan yang Dibakar (Ha)  |       1602031  |              CENGAL  |   2008  |            |         |           |   1454  |          |\n",
      " 1575  |  1574  |  Luas Lahan yang Dibakar (Ha)  |       1602040  |           PEDAMARAN  |   2008  |            |         |           |         |          |\n",
      " 1576  |  1575  |  Luas Lahan yang Dibakar (Ha)  |       1602041  |     PEDAMARAN TIMUR  |   2008  |            |         |           |         |          |\n",
      " 1577  |  1576  |  Luas Lahan yang Dibakar (Ha)  |       1602050  |       TANJUNG LUBUK  |   2008  |            |         |           |      8  |          |\n",
      " 1578  |  1577  |  Luas Lahan yang Dibakar (Ha)  |       1602051  |         TELUK GELAM  |   2008  |            |         |           |     29  |          |\n",
      " 1579  |  1578  |  Luas Lahan yang Dibakar (Ha)  |       1602060  |     KOTA KAYU AGUNG  |   2008  |            |         |           |      3  |          |\n",
      " 1580  |  1579  |  Luas Lahan yang Dibakar (Ha)  |       1602120  |  SIRAH PULAU PADANG  |   2008  |            |         |           |         |          |\n",
      "  ...  |   ...  |                           ...  |           ...  |                 ...  |    ...  |       ...  |    ...  |      ...  |    ...  |     ...  |\n",
      " 2060  |  2059  |  Luas Lahan yang Dibakar (Ha)  |       1901092  |               BAKAM  |   2008  |            |         |           |    228  |          |\n",
      " 2061  |  2060  |  Luas Lahan yang Dibakar (Ha)  |       1901130  |             BELINYU  |   2008  |            |         |           |     20  |          |\n",
      " 2062  |  2061  |  Luas Lahan yang Dibakar (Ha)  |       1901131  |          RIAU SILIP  |   2008  |            |         |           |    919  |          |\n",
      " 2063  |  2062  |  Luas Lahan yang Dibakar (Ha)  |       1902010  |           MEMBALONG  |   2008  |            |         |           |  625.5  |          |\n",
      " 2064  |  2063  |  Luas Lahan yang Dibakar (Ha)  |       1902060  |      TANJUNG PANDAN  |   2008  |            |         |           |      5  |          |\n",
      " 2065  |  2064  |  Luas Lahan yang Dibakar (Ha)  |       1902061  |               BADAU  |   2008  |            |         |           |      6  |          |\n",
      " 2066  |  2065  |  Luas Lahan yang Dibakar (Ha)  |       1902062  |               SIJUK  |   2008  |            |         |           |      5  |          |\n",
      " 2067  |  2066  |  Luas Lahan yang Dibakar (Ha)  |       1902063  |         SELAT NASIK  |   2008  |            |         |           |     42  |          |\n",
      " 2068  |  2067  |  Luas Lahan yang Dibakar (Ha)  |       1903010  |              KELAPA  |   2008  |            |         |           |  975.4  |          |\n",
      " 2069  |  2068  |  Luas Lahan yang Dibakar (Ha)  |       1903020  |           TEMPILANG  |   2008  |            |         |           |    464  |          |\n"
     ]
    },
    {
     "ename": "ERROR",
     "evalue": " java.lang.NumberFormatException",
     "output_type": "error",
     "traceback": [
      "\u001b[1;31mERROR: java.lang.NumberFormatException: Error adding value to column nilai: For input string: \"1900-01-22T00:09\"\u001b[0;0m"
     ]
    }
   ],
   "source": [
    "import tech.tablesaw.api.*;\n",
    "import tech.tablesaw.io.xlsx.*;\n",
    "import static tech.tablesaw.aggregate.AggregateFunctions.*;\n",
    "\n",
    "// display Tablesaw tables with BeakerX table display widget\n",
    "tech.tablesaw.beakerx.TablesawDisplayer.register();\n",
    "\n",
    "//init objek\n",
    "Table  yulisa= Table.read().csv(\"datasets/12181627/12181627.csv\");\n",
    "\n",
    "//print dataset structure\n",
    "System.out.println(yulisa);\n",
    "\n",
    "//init objek XlsReader\n",
    "XlsxReader reader = new XlsxReader();\n",
    "XlsxReadOptions options = XlsxReadOptions.builder(\"datasets/12181627/12181627.xlsx\").build();\n",
    "Table tab = reader.read(options);\n",
    "\n",
    "Table dfDataXLS = reader.read(options);\n",
    "\n",
    "////Menampilkan struktur data frame dfDataXLS\n",
    "System.out.println(dfDataXLS.structure());\n",
    "\n",
    "//menggabungkan data pada dataframedata1 dan dataframedata2 untuk disimpan di df datagabung\n",
    "Table datagabung = yulisa.append(dfDataXLS);\n",
    "\n",
    "//menampilkan gabungan data yang ada di dataframe datagabung\n",
    "System.out.println(datagabung); \n",
    "\n",
    "//menampilkan summary data yang ada di dataframe datagabung kolom \"grade\"\n",
    "System.out.print(datagabung.summarize(\"nilai\", mean, max, min).apply());\n",
    "\n"
   ]
  },
  {
   "cell_type": "code",
   "execution_count": null,
   "metadata": {},
   "outputs": [],
   "source": []
  },
  {
   "cell_type": "code",
   "execution_count": null,
   "metadata": {},
   "outputs": [],
   "source": []
  }
 ],
 "metadata": {
  "kernelspec": {
   "display_name": "Java",
   "language": "java",
   "name": "java"
  },
  "language_info": {
   "codemirror_mode": "text/x-java",
   "file_extension": ".java",
   "mimetype": "",
   "name": "Java",
   "nbconverter_exporter": "",
   "version": "1.8.0_121"
  },
  "toc": {
   "base_numbering": 1,
   "nav_menu": {},
   "number_sections": false,
   "sideBar": false,
   "skip_h1_title": false,
   "title_cell": "Table of Contents",
   "title_sidebar": "Contents",
   "toc_cell": false,
   "toc_position": {},
   "toc_section_display": false,
   "toc_window_display": false
  }
 },
 "nbformat": 4,
 "nbformat_minor": 2
}
